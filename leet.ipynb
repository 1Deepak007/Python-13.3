{
 "cells": [
  {
   "cell_type": "markdown",
   "metadata": {},
   "source": [
    "# LeetCode\n",
    "\n",
    "* https://leetcode.com/problems/two-sum/"
   ]
  },
  {
   "cell_type": "code",
   "execution_count": 11,
   "metadata": {},
   "outputs": [
    {
     "name": "stdout",
     "output_type": "stream",
     "text": [
      "0 1\n"
     ]
    },
    {
     "data": {
      "text/plain": [
       "[0, 1]"
      ]
     },
     "execution_count": 11,
     "metadata": {},
     "output_type": "execute_result"
    }
   ],
   "source": [
    "# Given an array of integers nums and an integer target, return indices of the two numbers such that they add up to target.\n",
    "# Input: nums = [2,7,11,15], target = 9\n",
    "# Output: [0,1]\n",
    "\n",
    "class Solution:\n",
    "    def __init__(self,ary,target):\n",
    "        self.ary = ary\n",
    "        self.target = target\n",
    "    def twoSum(self):\n",
    "        for i in range(0,len(self.ary)):\n",
    "            for j in range(1,len(self.ary)):\n",
    "                print(i,j)\n",
    "                if self.ary[i]+self.ary[j] == self.target:\n",
    "                    return [i,j]\n",
    "        print('no appropriate result')\n",
    "\n",
    "ar = [3,2,4]\n",
    "tar = 5\n",
    "obj = Solution(ar,tar)\n",
    "obj.twoSum()\n"
   ]
  },
  {
   "cell_type": "code",
   "execution_count": 16,
   "metadata": {},
   "outputs": [
    {
     "data": {
      "text/plain": [
       "[8,\n",
       " 9,\n",
       " 9,\n",
       " 9,\n",
       " 9,\n",
       " 9,\n",
       " 9,\n",
       " 9,\n",
       " 9,\n",
       " 9,\n",
       " 9,\n",
       " 9,\n",
       " 9,\n",
       " 9,\n",
       " 9,\n",
       " 9,\n",
       " 9,\n",
       " 9,\n",
       " 9,\n",
       " 9,\n",
       " 9,\n",
       " 9,\n",
       " 9,\n",
       " 9,\n",
       " 9,\n",
       " 9,\n",
       " 9,\n",
       " 9]"
      ]
     },
     "execution_count": 16,
     "metadata": {},
     "output_type": "execute_result"
    }
   ],
   "source": [
    "# Input: l1 = [9,9,9,9,9,9,9], l2 = [9,9,9,9]\n",
    "# Output: [8,9,9,9,0,0,0,1]\n",
    "class Solution:\n",
    "    def __init__(self,ar1,ar2):\n",
    "       self.ar1 = ar1\n",
    "       self.ar2 = ar2\n",
    "    def  addTwoNumbers(self):\n",
    "        res = []\n",
    "        carry = 0\n",
    "        ar1 = self.ar1\n",
    "        ar2 = self.ar2\n",
    "        for i in range(0,len(ar1)):\n",
    "            for j in range(0,len(ar2)):\n",
    "                sum = ar1[j] + ar2[j]\n",
    "                if sum > 9:\n",
    "                    if(carry != 0):\n",
    "                        sum = (sum+carry) - 10\n",
    "                        res.append(sum)\n",
    "                    else:\n",
    "                        sum = sum - 10\n",
    "                        res.append(sum)\n",
    "                    carry = 1\n",
    "                else:\n",
    "                    carry = 0\n",
    "        return res\n",
    "\n",
    "\n",
    "ar1 = [9,9,9,9,9,9,9]\n",
    "ar2 = [9,9,9,9]\n",
    "obj = Solution(ar1,ar2)\n",
    "obj.addTwoNumbers()\n"
   ]
  },
  {
   "cell_type": "code",
   "execution_count": null,
   "metadata": {},
   "outputs": [],
   "source": []
  }
 ],
 "metadata": {
  "kernelspec": {
   "display_name": "Python 3",
   "language": "python",
   "name": "python3"
  },
  "language_info": {
   "codemirror_mode": {
    "name": "ipython",
    "version": 3
   },
   "file_extension": ".py",
   "mimetype": "text/x-python",
   "name": "python",
   "nbconvert_exporter": "python",
   "pygments_lexer": "ipython3",
   "version": "3.13.1"
  }
 },
 "nbformat": 4,
 "nbformat_minor": 2
}
