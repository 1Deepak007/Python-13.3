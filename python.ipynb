{
 "cells": [
  {
   "cell_type": "markdown",
   "metadata": {},
   "source": [
    "Python 3.13.1"
   ]
  },
  {
   "cell_type": "code",
   "execution_count": 8,
   "metadata": {},
   "outputs": [
    {
     "name": "stdout",
     "output_type": "stream",
     "text": [
      "10\n",
      "<class 'int'>\n",
      "20.5\n",
      "<class 'float'>\n",
      "Krishna\n",
      "<class 'str'>\n",
      "True\n",
      "<class 'bool'>\n",
      "None\n",
      "<class 'NoneType'>\n"
     ]
    }
   ],
   "source": [
    "# Variables\n",
    "a=10; b=20.5; name=\"Krishna\"; is_valid=True; empty=None;\n",
    "print(a)\n",
    "print(type(a))\n",
    "print(b)\n",
    "print(type(b))\n",
    "print(name)\n",
    "print(type(name))\n",
    "print(is_valid)\n",
    "print(type(is_valid))\n",
    "print(empty)\n",
    "print(type(empty))\n"
   ]
  },
  {
   "cell_type": "code",
   "execution_count": 12,
   "metadata": {},
   "outputs": [
    {
     "name": "stdout",
     "output_type": "stream",
     "text": [
      "Hello sonu. your age is 10 and fav num is 12\n"
     ]
    }
   ],
   "source": [
    "# Input \n",
    "# inputs = input('Enter your name, age and fav num (comma seperated): ').split(',')\n",
    "\n",
    "name = input('Enter your name : ');\n",
    "age = int(input('Enter your age : '));\n",
    "num = int(input('Enter your fav num : '));\n",
    "print(f'Hello {name}. your age is {age} and fav num is {num}')"
   ]
  },
  {
   "cell_type": "code",
   "execution_count": 15,
   "metadata": {},
   "outputs": [
    {
     "name": "stdout",
     "output_type": "stream",
     "text": [
      "1 is an odd number\n"
     ]
    }
   ],
   "source": [
    "# if elif else\n",
    "num = int(input('Enter a number : '))\n",
    "if num % 2 == 0:\n",
    "    print(f'{num} is an even number')\n",
    "else:\n",
    "    print(f'{num} is an odd number')"
   ]
  },
  {
   "cell_type": "code",
   "execution_count": 22,
   "metadata": {},
   "outputs": [
    {
     "name": "stdout",
     "output_type": "stream",
     "text": [
      "1 is odd\n",
      "2 is even\n",
      "3 is odd\n",
      "4 is even\n",
      "5 is odd\n",
      "6 is even\n",
      "7 is odd\n",
      "8 is even\n",
      "9 is odd\n",
      "10 is even\n"
     ]
    }
   ],
   "source": [
    "for i in range(1,11):\n",
    "    if(i%2 == 0):\n",
    "        print(f'{i} is even')\n",
    "    else:\n",
    "        print(f'{i} is odd')"
   ]
  },
  {
   "cell_type": "code",
   "execution_count": 47,
   "metadata": {},
   "outputs": [
    {
     "name": "stdout",
     "output_type": "stream",
     "text": [
      "1\n",
      "3\n",
      "5\n"
     ]
    }
   ],
   "source": [
    "# * args and ** kwargs\n",
    "\n",
    "def process_numbers(*args, **kwargs):\n",
    "    for num in args:\n",
    "        if kwargs.get(\"mode\",\"\").lower() == \"even\":\n",
    "            if num % 2 == 0:\n",
    "                print(num)\n",
    "        elif kwargs.get(\"mode\",\"\").lower() == \"odd\" :\n",
    "            if num % 2 != 0:\n",
    "                print(num)\n",
    "        else:\n",
    "            print(\"provide proper inputs\")\n",
    "\n",
    "process_numbers(1, 2, 3, 4, 5, mode=\"odd\")\n"
   ]
  },
  {
   "cell_type": "code",
   "execution_count": null,
   "metadata": {},
   "outputs": [],
   "source": []
  },
  {
   "cell_type": "code",
   "execution_count": null,
   "metadata": {},
   "outputs": [],
   "source": []
  }
 ],
 "metadata": {
  "kernelspec": {
   "display_name": "Python 3",
   "language": "python",
   "name": "python3"
  },
  "language_info": {
   "codemirror_mode": {
    "name": "ipython",
    "version": 3
   },
   "file_extension": ".py",
   "mimetype": "text/x-python",
   "name": "python",
   "nbconvert_exporter": "python",
   "pygments_lexer": "ipython3",
   "version": "3.13.1"
  }
 },
 "nbformat": 4,
 "nbformat_minor": 2
}
