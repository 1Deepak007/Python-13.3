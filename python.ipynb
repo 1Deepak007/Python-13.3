{
 "cells": [
  {
   "cell_type": "markdown",
   "metadata": {},
   "source": [
    "Python 3.13.1"
   ]
  },
  {
   "cell_type": "code",
   "execution_count": 8,
   "metadata": {},
   "outputs": [
    {
     "name": "stdout",
     "output_type": "stream",
     "text": [
      "10\n",
      "<class 'int'>\n",
      "20.5\n",
      "<class 'float'>\n",
      "Krishna\n",
      "<class 'str'>\n",
      "True\n",
      "<class 'bool'>\n",
      "None\n",
      "<class 'NoneType'>\n"
     ]
    }
   ],
   "source": [
    "# Variables\n",
    "a=10; b=20.5; name=\"Krishna\"; is_valid=True; empty=None;\n",
    "print(a)\n",
    "print(type(a))\n",
    "print(b)\n",
    "print(type(b))\n",
    "print(name)\n",
    "print(type(name))\n",
    "print(is_valid)\n",
    "print(type(is_valid))\n",
    "print(empty)\n",
    "print(type(empty))\n"
   ]
  },
  {
   "cell_type": "code",
   "execution_count": 12,
   "metadata": {},
   "outputs": [
    {
     "name": "stdout",
     "output_type": "stream",
     "text": [
      "Hello sonu. your age is 10 and fav num is 12\n"
     ]
    }
   ],
   "source": [
    "# Input \n",
    "# inputs = input('Enter your name, age and fav num (comma seperated): ').split(',')\n",
    "\n",
    "name = input('Enter your name : ');\n",
    "age = int(input('Enter your age : '));\n",
    "num = int(input('Enter your fav num : '));\n",
    "print(f'Hello {name}. your age is {age} and fav num is {num}')"
   ]
  },
  {
   "cell_type": "code",
   "execution_count": 15,
   "metadata": {},
   "outputs": [
    {
     "name": "stdout",
     "output_type": "stream",
     "text": [
      "1 is an odd number\n"
     ]
    }
   ],
   "source": [
    "# if elif else\n",
    "num = int(input('Enter a number : '))\n",
    "if num % 2 == 0:\n",
    "    print(f'{num} is an even number')\n",
    "else:\n",
    "    print(f'{num} is an odd number')"
   ]
  },
  {
   "cell_type": "code",
   "execution_count": 22,
   "metadata": {},
   "outputs": [
    {
     "name": "stdout",
     "output_type": "stream",
     "text": [
      "1 is odd\n",
      "2 is even\n",
      "3 is odd\n",
      "4 is even\n",
      "5 is odd\n",
      "6 is even\n",
      "7 is odd\n",
      "8 is even\n",
      "9 is odd\n",
      "10 is even\n"
     ]
    }
   ],
   "source": [
    "for i in range(1,11):\n",
    "    if(i%2 == 0):\n",
    "        print(f'{i} is even')\n",
    "    else:\n",
    "        print(f'{i} is odd')"
   ]
  },
  {
   "cell_type": "markdown",
   "metadata": {},
   "source": [
    "# *args   **kwargs"
   ]
  },
  {
   "cell_type": "code",
   "execution_count": null,
   "metadata": {},
   "outputs": [
    {
     "name": "stdout",
     "output_type": "stream",
     "text": [
      "1\n",
      "3\n",
      "5\n"
     ]
    }
   ],
   "source": [
    "# * args and ** kwargs\n",
    "\n",
    "def process_numbers(*args, **kwargs):\n",
    "    for num in args:\n",
    "        if kwargs.get(\"mode\",\"\").lower() == \"even\":\n",
    "            if num % 2 == 0:\n",
    "                print(num)\n",
    "        elif kwargs.get(\"mode\",\"\").lower() == \"odd\" :\n",
    "            if num % 2 != 0:\n",
    "                print(num)\n",
    "        else:\n",
    "            print(\"provide proper inputs\")\n",
    "\n",
    "process_numbers(1, 2, 3, 4, 5, mode=\"odd\")\n"
   ]
  },
  {
   "cell_type": "code",
   "execution_count": 51,
   "metadata": {},
   "outputs": [
    {
     "name": "stdout",
     "output_type": "stream",
     "text": [
      "[1, 2, 3, 4, 5, 2]\n",
      "<class 'list'>\n",
      "1\n",
      "2\n",
      "[1, 2, 3, 4, 5, 2, 6]\n",
      "[10, 1, 2, 3, 4, 5, 2, 6]\n",
      "[10, 1, 3, 4, 5, 2, 6]\n",
      "[10, 3, 4, 5, 2, 6]\n",
      "[2, 3, 4, 5, 6, 10]\n",
      "[10, 6, 5, 4, 3, 2]\n",
      "rev : [2, 3, 4, 5, 6, 10]\n",
      "[10, 5, 3]\n",
      "[10, 6, 5, 4, 3, 2]\n",
      "[]\n",
      "[1, 2, 10, 20]\n",
      "1\n"
     ]
    }
   ],
   "source": [
    "# List    :  A list is an ordered, mutable collection of items. You can store any type of object in a list (numbers, strings, other lists, etc.).\n",
    "numbers = [1, 2, 3, 4, 5, 2]\n",
    "print(numbers)\n",
    "print(type(numbers))\n",
    "print(numbers[0]) \n",
    "print(numbers[-1])\n",
    "numbers.append(6)      # add element at last position in list\n",
    "print(numbers)\n",
    "numbers.insert(0, 10)  # insert element at 0'th position in list\n",
    "print(numbers)\n",
    "numbers.remove(2)      # remove element by providing element   (1st occurance)\n",
    "print(numbers)\n",
    "numbers.pop(1)         # remove element at specific index\n",
    "print(numbers)    \n",
    "numbers.sort()       # sort list in ascending order\n",
    "print(numbers)\n",
    "numbers.reverse()     # reverse list\n",
    "print(numbers) \n",
    "print(numbers[::-1])   # output : [2, 3, 4, 5, 6, 10]\n",
    "print(numbers[0::2])   # output : [10, 5, 3]\n",
    "\n",
    "\n",
    "nums = numbers.copy()  # copy list\n",
    "print(nums)\n",
    "numbers.clear()\n",
    "print(numbers)\n",
    "\n",
    "\n",
    "l1 = [1,2];  l2=[10,20];\n",
    "l1.extend(l2)\n",
    "print(l1)\n",
    "print(l1.count(10))\n"
   ]
  },
  {
   "cell_type": "code",
   "execution_count": 17,
   "metadata": {},
   "outputs": [
    {
     "name": "stdout",
     "output_type": "stream",
     "text": [
      "('Mon', 'Tues', 'Wed', 'Thu', 'Fri', 'Sat', 'Sun')\n",
      "1\n",
      "2\n"
     ]
    }
   ],
   "source": [
    "# Tuples : A tuple is similar to a list but immutable (cannot be changed after creation).\n",
    "\n",
    "days = ('Mon','Tues','Wed','Thu','Fri','Sat','Sun')\n",
    "print(days)\n",
    "\n",
    "print(days.count('Mon'))\n",
    "print(days.index('Wed'))"
   ]
  },
  {
   "cell_type": "code",
   "execution_count": 25,
   "metadata": {},
   "outputs": [
    {
     "name": "stdout",
     "output_type": "stream",
     "text": [
      "{1, 2, 3, 4, 5}\n",
      "<class 'set'>\n",
      "True\n",
      "{1, 2, 3, 4, 5, 6}\n",
      "{1, 3, 4, 5, 6}\n",
      "{1, 3, 4, 5, 6}\n",
      "1\n",
      "{3, 4, 5, 6}\n"
     ]
    }
   ],
   "source": [
    "# Set : A set is an unordered collection of unique items. It doesn't allow duplicate values.\n",
    "\n",
    "s = {1, 2, 3, 2, 4, 5}\n",
    "print(s)\n",
    "print(type(s))\n",
    "print(1 in s)\n",
    "s.add(6)  # add element to set\n",
    "print(s)\n",
    "s.remove(2)  # remove element from set\n",
    "print(s)\n",
    "s.discard(13)  # remove element from set but doesn't raise error if element not found\n",
    "print(s)\n",
    "print(s.pop())  # remove and return first element from set\n",
    "print(s)\n",
    "\n"
   ]
  },
  {
   "cell_type": "code",
   "execution_count": 44,
   "metadata": {},
   "outputs": [
    {
     "name": "stdout",
     "output_type": "stream",
     "text": [
      "{'name': 'John', 'age': 30, 'city': 'New York'}\n",
      "<class 'dict'>\n",
      "John\n",
      "{'name': 'John', 'age': 41, 'city': 'New York'}\n",
      "{'name': 'John', 'age': 41, 'city': 'New York', 'country': 'USA'}\n",
      "{'name': 'John', 'age': 41, 'country': 'USA'}\n",
      "41\n",
      "dict_keys(['name', 'age', 'country'])\n",
      "dict_values(['John', 41, 'USA'])\n",
      "dict_items([('name', 'John'), ('age', 41), ('country', 'USA')])\n",
      "name: John\n",
      "age: 41\n",
      "country: USA\n",
      "name,age,country,\n",
      "John,41,USA,"
     ]
    }
   ],
   "source": [
    "#  Dictionary : A dictionary is an unordered collection of key-value pairs. Keys must be unique and immutable.\n",
    "person = {'name':'John', 'age':30, 'city':'New York'}\n",
    "print(person)\n",
    "print(type(person))\n",
    "print(person['name'])       # Accessing dictionary values\n",
    "person['age'] = 41          # update value of key\n",
    "print(person)\n",
    "person[\"country\"]=\"USA\"     # Adding a new key-value pair\n",
    "print(person)\n",
    "del person['city']          # Deleting a key-value pair\n",
    "print(person)\n",
    "print(person.get('age'))    # get value by key\n",
    "print(person.keys())        # get all keys\n",
    "print(person.values())      # get all values\n",
    "print(person.items())       # get all key-value pairs\n",
    "\n",
    "# looping in dictionary\n",
    "for key, value in person.items():\n",
    "    print(f\"{key}: {value}\")\n",
    "\n",
    "for key in person:                # print keys \n",
    "    print(key, end=\",\")\n",
    "\n",
    "print()\n",
    "\n",
    "for key in person:               # print values\n",
    "    print(person[key], end=\",\")"
   ]
  },
  {
   "cell_type": "code",
   "execution_count": 62,
   "metadata": {},
   "outputs": [
    {
     "name": "stdout",
     "output_type": "stream",
     "text": [
      "['dal', 'chawal', 'sahi paneer', 'chilli paneer', 'kadhai pneer', 'chola', 'bhatura']\n",
      "['dal', 'chawal', 'sahi paneer', 'chilli paneer', 'kadhai pneer', 'chola']\n",
      "('light green', 'mahroon')\n",
      "name:Ghochu\n",
      "age:17\n",
      "hobby:chess\n",
      "('jan', 'mar', 'may', 'jul', 'sept', 'nov')\n",
      "number not found in tuple\n",
      "Number 22 not found in tuple\n"
     ]
    }
   ],
   "source": [
    "# list\n",
    "foods = ['dal','chawal','sahi paneer','chilli paneer', 'kadhai pneer']\n",
    "foods.append('chola');\n",
    "foods.append('bhatura');\n",
    "print(foods)\n",
    "\n",
    "foods.remove('bhatura')\n",
    "print(foods)\n",
    "\n",
    "# tuple\n",
    "colors = ('light green','red','mahroon')\n",
    "# Slicing and displaying tuple values\n",
    "print(colors[::2])  # Output: ('light green', 'mahroon')\n",
    "\n",
    "# dictionary\n",
    "person = {'name':'Ghochu','age':'17','hobby':'chess'}\n",
    "for key in person:\n",
    "    print(f\"{key} : {person[key]}\")\n",
    "\n",
    "# set\n",
    "months = ('jan','feb','mar','apr','may','june','jul','aug','sept','oct','nov','dec')\n",
    "print(months[::2])\n",
    "\n",
    "nums = (100,122,374,152,200)\n",
    "\n",
    "if 222 in nums:\n",
    "    print('number found')\n",
    "else:\n",
    "    print('number not found in tuple')\n",
    "\n",
    "\n",
    "nums = (100, 122, 374, 152, 200, 222)\n",
    "try:\n",
    "    index = nums.index(22)\n",
    "    print(f\"Index of 22: {index}\") \n",
    "except ValueError:\n",
    "    print(\"Number 22 not found in tuple\") "
   ]
  },
  {
   "cell_type": "markdown",
   "metadata": {},
   "source": [
    "# OOPs"
   ]
  },
  {
   "cell_type": "code",
   "execution_count": 66,
   "metadata": {},
   "outputs": [
    {
     "name": "stdout",
     "output_type": "stream",
     "text": [
      "Make: Nissan, Model: GTR-V8, Year: 1994\n",
      "Model : GTR-V8\n"
     ]
    }
   ],
   "source": [
    "# Class: A blueprint for creating objects. It defines the properties and behaviors (methods) that the objects created from the class will have.\n",
    "# Object: An instance of a class. It has the properties and behaviors defined in the class.\n",
    "# __init__ method: This is the constructor, which initializes the attributes when an object is created. The self keyword refers to the current instance of the class.\n",
    "\n",
    "class Car:\n",
    "    def __init__(self, make, model, year):\n",
    "        self.make = make\n",
    "        self.model = model\n",
    "        self.year = year\n",
    "    \n",
    "    def get_details(self):\n",
    "        return f\"Make: {self.make}, Model: {self.model}, Year: {self.year}\"\n",
    "    \n",
    "    def get_model(self):\n",
    "        return f\"Model : {self.model}\"\n",
    "\n",
    "obj = Car('Nissan','GTR-V8',1994)\n",
    "print(obj.get_details())\n",
    "print(obj.get_model())"
   ]
  },
  {
   "cell_type": "code",
   "execution_count": 67,
   "metadata": {},
   "outputs": [
    {
     "name": "stdout",
     "output_type": "stream",
     "text": [
      "Make: Tesla, Model: Model S\n",
      "Battery Capacity: 100 kWh\n"
     ]
    }
   ],
   "source": [
    "# INHERITANCE \n",
    "# Inheritance is a mechanism that allows one class to inherit the properties and behavior of another class. This is a key feature of OOP because it promotes code reuse.\n",
    "\n",
    "# Base class\n",
    "class Vehicle:\n",
    "    def __init__(self, make, model, year):\n",
    "        self.make = make\n",
    "        self.model = model\n",
    "    \n",
    "    def show_details(self):\n",
    "        print(f\"Make: {self.make}, Model: {self.model}\")\n",
    "\n",
    "class EV(Vehicle):\n",
    "    def __init__(self, make, model, year, battery_capacity):\n",
    "        super().__init__(make, model, year)\n",
    "        self.battery_capacity = battery_capacity\n",
    "    \n",
    "    def battery_info(self):\n",
    "        print(f\"Battery Capacity: {self.battery_capacity} kWh\")\n",
    "\n",
    "# Creating an instance of the EV class\n",
    "ev_car = EV(\"Tesla\", \"Model S\", 2022, 100)\n",
    "ev_car.show_details()\n",
    "ev_car.battery_info()"
   ]
  },
  {
   "cell_type": "code",
   "execution_count": 75,
   "metadata": {},
   "outputs": [
    {
     "name": "stdout",
     "output_type": "stream",
     "text": [
      "Hello, my name is John Doe.\n",
      "I am 30 years old.\n",
      "I am working as a CEO.\n"
     ]
    }
   ],
   "source": [
    "class Person:\n",
    "    def __init__(self, name, age, city):\n",
    "        self.name = name\n",
    "        self.age = age\n",
    "        self.city = city\n",
    "    def greet(self):\n",
    "        print(f\"Hello, my name is {self.name}.\")\n",
    "    def age_in_years(self):\n",
    "        print(f\"I am {self.age} years old.\")\n",
    "\n",
    "class Employee(Person):\n",
    "    def __init__(self, name, age, city, job_title):\n",
    "        # Calling the constructor of the Person class to initialize inherited attributes\n",
    "        super().__init__(name, age, city)\n",
    "        self.job_title = job_title\n",
    "    def work(self):\n",
    "        print(f\"I am working as a {self.job_title}.\")\n",
    "\n",
    "person = Person(\"John Doe\", 30, \"New York\")\n",
    "person.greet()\n",
    "person.age_in_years()\n",
    "\n",
    "employee = Employee(\"Deepak\",20,'lucknow','CEO')\n",
    "employee.work()"
   ]
  },
  {
   "cell_type": "code",
   "execution_count": 15,
   "metadata": {},
   "outputs": [
    {
     "name": "stdout",
     "output_type": "stream",
     "text": [
      "Deposited : Rs 50000. New Balance : 10050000\n",
      "Krishna\n",
      "10050000\n"
     ]
    }
   ],
   "source": [
    "# Encapsulation\n",
    "# Encapsulation is the concept of hiding the internal details of an object and only exposing the necessary functionality. In Python, this is done using private and public attributes and methods.\n",
    "#               Private attributes/methods: Denoted by a double underscore (__), making it inaccessible from outside the class.\n",
    "#               Public attributes/methods: Accessible from outside the class.\n",
    "\n",
    "class Account:\n",
    "    def __init__(self,account_holder,balance):\n",
    "        self.account_holder = account_holder  # public attribute\n",
    "        self.__balance = balance    # private attribute\n",
    "    \n",
    "    def deposit(self,amount):\n",
    "        if amount > 0:\n",
    "            self.__balance += amount\n",
    "            print(f'Deposited : Rs {amount}. New Balance : {self.__balance}')\n",
    "        else:\n",
    "            print('Amount must be positive.')\n",
    "    \n",
    "    # access private attribute usinf function\n",
    "    def get_balance(self):\n",
    "        return self.__balance\n",
    "\n",
    "person = Account('Krishna',10000000);\n",
    "person.deposit(50000)\n",
    "person.get_balance()\n",
    "\n",
    "print(person.account_holder)\n",
    "# print(person.__balance)     # Error : 'Account' object has no attribute '__balance'.     as it it a private attribute\n",
    "print(person.get_balance())"
   ]
  },
  {
   "cell_type": "code",
   "execution_count": 18,
   "metadata": {},
   "outputs": [
    {
     "name": "stdout",
     "output_type": "stream",
     "text": [
      "Area of Rectangle: 100\n",
      "Area of Circle: 314.0\n"
     ]
    }
   ],
   "source": [
    "# Abstraction \n",
    "# Abstraction allows you to hide complex implementations and show only the essential details to the user. In Python, you can use abstract base classes (ABC) to define an abstract class.\n",
    "\n",
    "from abc import ABC,abstractmethod\n",
    "\n",
    "class Shape(ABC):\n",
    "    @abstractmethod\n",
    "    def area(self):\n",
    "        pass\n",
    "\n",
    "class Rectangle(Shape):\n",
    "    def __init__(self, length, width):\n",
    "        self.length = length\n",
    "        self.width = width\n",
    "    def area(self):\n",
    "        return self.length * self.width\n",
    "\n",
    "class Circle(Shape):\n",
    "    def __init__(self, radius):\n",
    "        self.radius = radius\n",
    "    \n",
    "    def area(self):\n",
    "        return 3.14 * (self.radius ** 2)\n",
    "\n",
    "objRect = Rectangle(10,10);\n",
    "print(f\"Area of Rectangle: {objRect.area()}\")\n",
    "\n",
    "objCirc = Circle(10);\n",
    "print(f\"Area of Circle: {objCirc.area()}\")\n"
   ]
  },
  {
   "cell_type": "code",
   "execution_count": null,
   "metadata": {},
   "outputs": [
    {
     "name": "stdout",
     "output_type": "stream",
     "text": [
      "This is an Auddi\n",
      "This is a BMW\n"
     ]
    }
   ],
   "source": [
    "#=======================> Polymorphism\n",
    "# Polymorphism allows objects of different classes to be treated as objects of a common superclass. Polymorphism enables the same interface (method name) to be used for different data types or classes.\n",
    "# It can be achieved via method overriding or operator overloading.\n",
    "\n",
    "# Method Overriding: A subclass provides a specific implementation for a method that is already defined in its superclass. (Runtime Polymorphism)\n",
    "\n",
    "class Vahicle:\n",
    "    def specification(self):\n",
    "        print(\"This is a vehicle\")\n",
    "\n",
    "class Auddi(Vahicle):\n",
    "    def specification(self):\n",
    "        print(\"This is an Auddi\")\n",
    "\n",
    "class BMW(Vahicle):\n",
    "    def specification(self):\n",
    "        print(\"This is a BMW\")\n",
    "\n",
    "aud = Auddi()\n",
    "aud.specification()\n",
    "\n",
    "bmw = BMW()\n",
    "bmw.specification()"
   ]
  },
  {
   "cell_type": "code",
   "execution_count": null,
   "metadata": {},
   "outputs": [
    {
     "name": "stdout",
     "output_type": "stream",
     "text": [
      "10\n",
      "30\n",
      "60\n",
      "21\n",
      "10\n"
     ]
    }
   ],
   "source": [
    "# Method Overloading: multiple methods in the same class with the same name but different numbers or types of parameters. (Compile-Time Polymorphism)\n",
    "# In Python, true method overloading is not supported, as Python allows only one method with a given name in a class. However, method overloading can be simulated using default arguments or by handling arguments dynamically within a single method.\n",
    "\n",
    "\n",
    "class Calculator:\n",
    "    def add(self,a,b=0,c=0):       # Method Overloading Using :: default argument\n",
    "        return a+b+c\n",
    "\n",
    "obj = Calculator()\n",
    "print(obj.add(10))\n",
    "print(obj.add(10,20))\n",
    "print(obj.add(10,20,30))\n",
    "\n",
    "# Method Overloading Using :: *args\n",
    "def add(*args):\n",
    "    sum = 0;\n",
    "    for i in args:\n",
    "        sum += i\n",
    "    return sum\n",
    "\n",
    "print(add(1,2,3,4,5,6))\n",
    "\n",
    "# Method Overloading Using :: **kwargs\n",
    "def add(**kwargs):\n",
    "    sum = 0;\n",
    "    for key, value in kwargs.items():\n",
    "        sum += value\n",
    "    return sum\n",
    "\n",
    "print(add(a=1,b=2,c=3,d=4))"
   ]
  },
  {
   "cell_type": "code",
   "execution_count": 2,
   "metadata": {},
   "outputs": [
    {
     "name": "stdout",
     "output_type": "stream",
     "text": [
      "(4, 6)\n"
     ]
    }
   ],
   "source": [
    "# Operator Overloading (Dunder Methods)\n",
    "# Python allows operators to be redefined for custom classes using special methods (dunder methods like __add__, __mul__, etc.).\n",
    "\n",
    "class Vector:\n",
    "    def __init__(self, x, y):\n",
    "        self.x = x\n",
    "        self.y = y\n",
    "\n",
    "    def __add__(self, other):               # overloading + operator\n",
    "        return Vector(self.x + other.x, self.y + other.y)\n",
    "\n",
    "    def __str__(self):\n",
    "        return f\"({self.x}, {self.y})\"\n",
    "\n",
    "\n",
    "v1 = Vector(1, 2)\n",
    "v2 = Vector(3, 4)\n",
    "\n",
    "v3 = v1 + v2\n",
    "print(v3)  # Output: (4, 6)"
   ]
  },
  {
   "cell_type": "code",
   "execution_count": 21,
   "metadata": {},
   "outputs": [
    {
     "name": "stdout",
     "output_type": "stream",
     "text": [
      "Hello from A\n",
      "[<class '__main__.C'>, <class '__main__.A'>, <class '__main__.B'>, <class 'object'>]\n"
     ]
    }
   ],
   "source": [
    "# Method Resolution Order (MRO) \n",
    "# MRO defines the order in which methods are inherited from multiple classes in case of multiple inheritance. It ensures that Python knows the order in which to look for methods and attributes.\n",
    "\n",
    "class A:\n",
    "    def greet(self):\n",
    "        print(\"Hello from A\")\n",
    "class B:\n",
    "    def greet(self):\n",
    "        print(\"Hello from B\")\n",
    "class C(A, B):\n",
    "    pass\n",
    "\n",
    "\n",
    "obj = C()\n",
    "obj.greet()\n",
    "\n",
    "# printing MRO of C\n",
    "print(C.mro())"
   ]
  },
  {
   "cell_type": "code",
   "execution_count": 33,
   "metadata": {},
   "outputs": [
    {
     "name": "stdout",
     "output_type": "stream",
     "text": [
      "1 2 3 4 5 6 7 8 9 10 A,B,C,D,E,F,G,H,I,J,\n",
      "Threads completed\n"
     ]
    }
   ],
   "source": [
    "# Multithreading\n",
    "# Multithreading allows multiple threads (lightweight processes) to run in parallel. Threads share the same memory space, making them efficient for I/O-bound tasks.\n",
    "\n",
    "import threading\n",
    "import time\n",
    "\n",
    "def print_numbers():\n",
    "    for i in range(1,11):\n",
    "        print(i,end=\" \")\n",
    "\n",
    "def print_letters():\n",
    "    for i in 'ABCDEFGHIJ':\n",
    "        print(i,end=\",\")\n",
    "\n",
    "# Creating threads\n",
    "t1 = threading.Thread(target=print_numbers)\n",
    "t2 = threading.Thread(target=print_letters)\n",
    "\n",
    "# Starting threads\n",
    "t1.start()\n",
    "t2.start()\n",
    "\n",
    "# Waiting for threads to complete\n",
    "t1.join()\n",
    "t2.join()\n",
    "\n",
    "print(\"\\nThreads completed\")"
   ]
  },
  {
   "cell_type": "code",
   "execution_count": 38,
   "metadata": {},
   "outputs": [
    {
     "name": "stdout",
     "output_type": "stream",
     "text": [
      "1 1 2 3 5 3 7 4 95  6\n",
      "Printing odds completed\n",
      " 7 8 9 10 \n",
      "Printing numbers completed\n"
     ]
    }
   ],
   "source": [
    "import threading\n",
    "import time\n",
    "\n",
    "def print_nums():\n",
    "    for i in range(1,11):\n",
    "        print(i, end=\" \", flush=True)     # flush=True -> Ensures that the output is immediately flushed to the console, which is especially useful when running multiple threads that might otherwise buffer their output.\n",
    "    print(\"\\nPrinting numbers completed\")\n",
    "\n",
    "def print_odds():\n",
    "    for i in range(1,11):\n",
    "        if i % 2 != 0:\n",
    "            print(i, end=\" \", flush=True)\n",
    "    print(\"\\nPrinting odds completed\")\n",
    "\n",
    "# Creating threads\n",
    "t1 = threading.Thread(target=print_nums)\n",
    "t2 = threading.Thread(target=print_odds)\n",
    "\n",
    "# Starting threads\n",
    "t1.start()\n",
    "t2.start()\n",
    "\n",
    "# Waiting for threads to complete\n",
    "t1.join()\n",
    "t2.join()"
   ]
  },
  {
   "cell_type": "code",
   "execution_count": null,
   "metadata": {},
   "outputs": [
    {
     "name": "stdout",
     "output_type": "stream",
     "text": [
      "Final counter value: 2000000\n",
      "-------------------------------\n",
      "Lock acquired, doing work...\n",
      "Lock re-acquired, performing more work...\n",
      "Lock released\n"
     ]
    }
   ],
   "source": [
    "# Thread Synchronization \n",
    "# Thread synchronization is a technique used to control the execution of threads so that shared resources are accessed safely, preventing race conditions and inconsistent data.\n",
    "# Why is Synchronization Needed?\n",
    "# When multiple threads access shared resources (variables, files, databases, etc.) simultaneously, issues like:\n",
    "    # Race conditions (when two threads modify the same variable at the same time)\n",
    "    # Inconsistent data (due to improper updates)\n",
    "    # Deadlocks (when two threads wait on each other forever)\n",
    "    # can occur. Synchronization ensures only one thread can access a shared resource at a time.\n",
    "\n",
    "\n",
    "# 1.Using threading.Lock (Mutex)\n",
    "import threading\n",
    "import time\n",
    "\n",
    "# Shared resource\n",
    "counter = 0\n",
    "lock = threading.Lock()  # Create a lock\n",
    "\n",
    "def increment():\n",
    "    global counter\n",
    "    for _ in range(1000000):\n",
    "        with lock:  # Automatically acquires and releases the lock\n",
    "            counter += 1\n",
    "\n",
    "# Create two threads\n",
    "t1 = threading.Thread(target=increment)\n",
    "t2 = threading.Thread(target=increment)\n",
    "\n",
    "# Start both threads\n",
    "t1.start()\n",
    "t2.start()\n",
    "\n",
    "# Wait for both threads to complete\n",
    "t1.join()\n",
    "t2.join()\n",
    "\n",
    "print(\"Final counter value:\", counter)\n",
    "\n",
    "\n",
    "print('-------------------------------')\n",
    "\n",
    "# 2.Using threading.RLock (Reentrant Lock)\n",
    "\n",
    "lock = threading.RLock()\n",
    "\n",
    "def process():\n",
    "    with lock:  # First acquire\n",
    "        print(\"Lock acquired, doing work...\")\n",
    "        with lock:  # Re-acquiring within the same thread\n",
    "            print(\"Lock re-acquired, performing more work...\")\n",
    "    print(\"Lock released\")\n",
    "\n",
    "t = threading.Thread(target=process)\n",
    "t.start()\n",
    "t.join()"
   ]
  },
  {
   "cell_type": "code",
   "execution_count": 7,
   "metadata": {},
   "outputs": [
    {
     "name": "stdout",
     "output_type": "stream",
     "text": [
      "Depositing 100...\n",
      "Deposited 100. New balance: 100\n",
      "Withdrawing 50...\n",
      "Withdrew 50. New balance: 50\n",
      "Withdrawing 100...\n",
      "Insufficient funds!\n",
      "Final balance: 50\n"
     ]
    }
   ],
   "source": [
    "\n",
    "import threading\n",
    "import time\n",
    "\n",
    "# Shared resource\n",
    "balance = 0\n",
    "lock = threading.Lock()\n",
    "\n",
    "def deposit(amount):\n",
    "    global balance\n",
    "    with lock:  # Acquiring the lock\n",
    "        print(f\"Depositing {amount}...\")\n",
    "        local_balance = balance\n",
    "        time.sleep(1)  # Simulate processing time\n",
    "        local_balance += amount\n",
    "        balance = local_balance\n",
    "        print(f\"Deposited {amount}. New balance: {balance}\")\n",
    "\n",
    "def withdraw(amount):\n",
    "    global balance\n",
    "    with lock:  # Acquiring the lock\n",
    "        print(f\"Withdrawing {amount}...\")\n",
    "        if balance >= amount:\n",
    "            local_balance = balance\n",
    "            time.sleep(1)  # Simulate processing time\n",
    "            local_balance -= amount\n",
    "            balance = local_balance\n",
    "            print(f\"Withdrew {amount}. New balance: {balance}\")\n",
    "        else:\n",
    "            print(\"Insufficient funds!\")\n",
    "\n",
    "# Creating threads\n",
    "t1 = threading.Thread(target=deposit, args=(100,))\n",
    "t2 = threading.Thread(target=withdraw, args=(50,))\n",
    "t3 = threading.Thread(target=withdraw, args=(100,))\n",
    "\n",
    "# Starting threads\n",
    "t1.start()\n",
    "t2.start()\n",
    "t3.start()\n",
    "\n",
    "# Waiting for threads to complete\n",
    "t1.join()\n",
    "t2.join()\n",
    "t3.join()\n",
    "\n",
    "print(f\"Final balance: {balance}\")"
   ]
  },
  {
   "cell_type": "code",
   "execution_count": 10,
   "metadata": {},
   "outputs": [
    {
     "name": "stdout",
     "output_type": "stream",
     "text": [
      "Error: Division by zero\n",
      "Execution completed\n"
     ]
    }
   ],
   "source": [
    "#==============================> Exception Handling in Python\n",
    "# Exception handling in Python is used to manage errors gracefully without crashing the program. Python provides a built-in mechanism to handle runtime errors using try-except, finally blocks.\n",
    "\n",
    "try:\n",
    "    # Code that might raise an exception\n",
    "    result = 10 / 0\n",
    "    print(result)\n",
    "except ZeroDivisionError:\n",
    "    print(\"Error: Division by zero\")\n",
    "finally:\n",
    "    print(\"Execution completed\")"
   ]
  },
  {
   "cell_type": "code",
   "execution_count": 11,
   "metadata": {},
   "outputs": [
    {
     "name": "stdout",
     "output_type": "stream",
     "text": [
      "Cannot divide by zero!\n"
     ]
    }
   ],
   "source": [
    "try:\n",
    "    num = int(input(\"Enter a number: \"))  # May raise ValueError\n",
    "    result = 10 / num  # May raise ZeroDivisionError\n",
    "except ValueError:\n",
    "    print(\"Invalid input! Please enter a number.\")\n",
    "except ZeroDivisionError:\n",
    "    print(\"Cannot divide by zero!\")"
   ]
  },
  {
   "cell_type": "code",
   "execution_count": 12,
   "metadata": {},
   "outputs": [
    {
     "name": "stdout",
     "output_type": "stream",
     "text": [
      "An error occurred: invalid literal for int() with base 10: 'abc'\n"
     ]
    }
   ],
   "source": [
    "try:\n",
    "    value = int(\"abc\")  # Raises ValueError\n",
    "except (ValueError, TypeError) as e:\n",
    "    print(\"An error occurred:\", e)\n"
   ]
  },
  {
   "cell_type": "code",
   "execution_count": 17,
   "metadata": {},
   "outputs": [
    {
     "name": "stdout",
     "output_type": "stream",
     "text": [
      "Invalid input!\n"
     ]
    }
   ],
   "source": [
    "# Using else with try-except\n",
    "\n",
    "try:\n",
    "    num = int(input(\"Enter a number: \"))\n",
    "    result = 100 / num\n",
    "except ZeroDivisionError:\n",
    "    print(\"Cannot divide by zero!\")\n",
    "except ValueError:\n",
    "    print(\"Invalid input!\")\n",
    "else:\n",
    "    print(\"Division successful! Result:\", result)\n"
   ]
  },
  {
   "cell_type": "code",
   "execution_count": 19,
   "metadata": {},
   "outputs": [
    {
     "name": "stdout",
     "output_type": "stream",
     "text": [
      "File not found!\n",
      "Closing file (if opened).\n"
     ]
    }
   ],
   "source": [
    "# Using finally for Cleanup\n",
    "\n",
    "try:\n",
    "    file = open(\"data.txt\", \"r\")  # File may not exist\n",
    "    content = file.read()\n",
    "except FileNotFoundError:\n",
    "    print(\"File not found!\")\n",
    "finally:\n",
    "    print(\"Closing file (if opened).\")\n",
    "    if 'file' in locals():\n",
    "        file.close()\n"
   ]
  },
  {
   "cell_type": "code",
   "execution_count": null,
   "metadata": {},
   "outputs": [
    {
     "name": "stdout",
     "output_type": "stream",
     "text": [
      "Error: Withdrawal limit exceeded!\n"
     ]
    }
   ],
   "source": [
    "# Raising Custom Exceptions\n",
    "\n",
    "def withdraw(amount):\n",
    "    if amount > 1000:\n",
    "        raise ValueError(\"Withdrawal limit exceeded!\")\n",
    "    print(f\"Withdrawing {amount} successfully.\")\n",
    "\n",
    "\n",
    "try:\n",
    "    withdraw(1500)\n",
    "except ValueError as e:\n",
    "    print(\"Error:\", e)"
   ]
  },
  {
   "cell_type": "code",
   "execution_count": 22,
   "metadata": {},
   "outputs": [
    {
     "name": "stdout",
     "output_type": "stream",
     "text": [
      "Error: Insufficient funds! Balance: 500, Withdrawal amount: 1000\n"
     ]
    }
   ],
   "source": [
    "# Creating a Custom Exception Class\n",
    "\n",
    "class InsufficientFundsError(Exception):\n",
    "    def __init__(self, balance, amount):\n",
    "        super().__init__(f\"Insufficient funds! Balance: {balance}, Withdrawal amount: {amount}\")\n",
    "\n",
    "def withdraw(balance, amount):\n",
    "    if amount > balance:\n",
    "        raise InsufficientFundsError(balance, amount)\n",
    "    print(f\"Withdrawing {amount}, remaining balance: {balance - amount}\")\n",
    "\n",
    "try:\n",
    "    withdraw(500, 1000)\n",
    "except InsufficientFundsError as e:\n",
    "    print(\"Error:\", e)\n"
   ]
  },
  {
   "cell_type": "code",
   "execution_count": null,
   "metadata": {},
   "outputs": [],
   "source": []
  }
 ],
 "metadata": {
  "kernelspec": {
   "display_name": "Developer",
   "language": "python",
   "name": "python3"
  },
  "language_info": {
   "codemirror_mode": {
    "name": "ipython",
    "version": 3
   },
   "file_extension": ".py",
   "mimetype": "text/x-python",
   "name": "python",
   "nbconvert_exporter": "python",
   "pygments_lexer": "ipython3",
   "version": "3.11.4"
  }
 },
 "nbformat": 4,
 "nbformat_minor": 2
}
